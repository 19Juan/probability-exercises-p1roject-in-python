{
 "cells": [
  {
   "cell_type": "markdown",
   "id": "a41f3622",
   "metadata": {},
   "source": [
    "# Ejercicios de probabilidad"
   ]
  },
  {
   "cell_type": "markdown",
   "id": "a6bdbd89",
   "metadata": {},
   "source": [
    "## Ejercicio 1 \n",
    "\n",
    "Dos dados se lanzan una vez y se observa el total obtenido. Usa una simulación para encontrar la probabilidad estimada de que la puntuación sea mayor a 7 o un número par. Una simulación es una repetición del mismo experimento multiples veces para observar su comportamiento:\n",
    "\n",
    "- Ejecuta el experimento 1000 veces (lanza 2 dados 1000 veces, y suma el número de ambos dados).\n",
    "- Lleva ua cuenta de los números y las veces que la suma fue mayor a 7 o un número par.\n",
    "- Divide el número del paso 2 entre el número de iteraciones(1000)."
   ]
  },
  {
   "cell_type": "code",
   "execution_count": 29,
   "id": "8939d892",
   "metadata": {},
   "outputs": [
    {
     "name": "stdout",
     "output_type": "stream",
     "text": [
      "número de veces que el resultado fue mayor a 7 :580\n",
      "Las veces que el resultado fue par fue : 515 \n"
     ]
    }
   ],
   "source": [
    "# TODO\n",
    "import random\n",
    "import numpy as np\n",
    "\n",
    "def Throw_dice():\n",
    "    return random.randint(1,7)\n",
    "\n",
    "cuenta_mayor_7=0\n",
    "cuenta_par=0\n",
    "\n",
    "for i in range (0,1000):\n",
    "    suma=Throw_dice()+Throw_dice()\n",
    "    if suma > 7:\n",
    "        cuenta_mayor_7+=1\n",
    "    if suma%2 == 0:\n",
    "        cuenta_par+=1\n",
    "\n",
    "print(f'número de veces que el resultado fue mayor a 7 :{cuenta_mayor_7}')\n",
    "print(f'Las veces que el resultado fue par fue : {cuenta_par} ')\n",
    "\n"
   ]
  },
  {
   "cell_type": "markdown",
   "id": "55732bca",
   "metadata": {},
   "source": [
    "## Ejercicio 2\n",
    "\n",
    "Una caja contiene 10 bolas blancas, 20 bolas rojas y 30 bolas verdes. Si tomamos 5 bolas de la caja reemplazándolas (tomando una bola, anotando el color y luego regresandola a la caja). Queremos saber la probabilidad de:\n",
    "\n",
    "1. Tomar 3 blancas y 2 rojas.\n",
    "2. Toas todas del mismo color.\n",
    "\n",
    "Ejecuta el experimento 1000 veces y calcula las probabilidades que mencionadas."
   ]
  },
  {
   "cell_type": "code",
   "execution_count": null,
   "id": "23244d20",
   "metadata": {},
   "outputs": [
    {
     "name": "stdout",
     "output_type": "stream",
     "text": [
      "{0: 'White', 1: 'White', 2: 'White', 3: 'White', 4: 'White', 5: 'White', 6: 'White', 7: 'White', 8: 'White', 9: 'White', 10: 'Red', 11: 'Red', 12: 'Red', 13: 'Red', 14: 'Red', 15: 'Red', 16: 'Red', 17: 'Red', 18: 'Red', 19: 'Red', 20: 'Red', 21: 'Red', 22: 'Red', 23: 'Red', 24: 'Red', 25: 'Red', 26: 'Red', 27: 'Red', 28: 'Red', 29: 'Red', 30: 'Green', 31: 'Green', 32: 'Green', 33: 'Green', 34: 'Green', 35: 'Green', 36: 'Green', 37: 'Green', 38: 'Green', 39: 'Green', 40: 'Green', 41: 'Green', 42: 'Green', 43: 'Green', 44: 'Green', 45: 'Green', 46: 'Green', 47: 'Green', 48: 'Green', 49: 'Green', 50: 'Green', 51: 'Green', 52: 'Green', 53: 'Green', 54: 'Green', 55: 'Green', 56: 'Green', 57: 'Green', 58: 'Green', 59: 'Green'}\n",
      "La probabilidad de sacar 3 bolas blancas y 2 rojas es de : 1.3%\n",
      "La probabilidad de sacar 5 bolas del mismo color es de : 3.4000000000000004%\n",
      "La probabilidad de sacar 1 bola de cada color es de : 1.7999999999999998%\n"
     ]
    }
   ],
   "source": [
    "ball_box = {}\n",
    "\n",
    "# Crea la cajas con las bolas\n",
    "for i in range(60):\n",
    "    if i < 10:\n",
    "        ball_box[i] = \"White\"\n",
    "    elif (i > 9) and (i < 30):\n",
    "        ball_box[i] = \"Red\"\n",
    "    else:\n",
    "        ball_box[i] = \"Green\"\n",
    "\n",
    "print(ball_box)\n",
    "            \n",
    "# TODO\n",
    "\n",
    "def Escoger_bola():\n",
    "    numero = np.random.randint(0, 60)\n",
    "    return ball_box[numero]\n",
    "\n",
    "def sacar_5_bolas():\n",
    "    lista_de_bolas=[]\n",
    "    for i in range (5):\n",
    "        lista_de_bolas.append(Escoger_bola())\n",
    "    return lista_de_bolas\n",
    "\n",
    "sacar_5_bolas()\n",
    "cuenta_3blancas_2rojas=0\n",
    "coontador_todas_mismo_color=0\n",
    "cuenta_1blanca_1roja_1verde=0\n",
    "\n",
    "\n",
    "for i in range(0,1000):\n",
    "    if sacar_5_bolas().count(\"White\") == 3 and sacar_5_bolas().count(\"Red\") == 2:\n",
    "        cuenta_3blancas_2rojas+=1\n",
    "\n",
    "    if sacar_5_bolas().count(\"White\") == 5 or sacar_5_bolas().count(\"Red\") == 5 or sacar_5_bolas().count(\"Green\") == 5:\n",
    "        coontador_todas_mismo_color+=1\n",
    "    \n",
    "    if sacar_5_bolas().count(\"White\") == 1 and sacar_5_bolas().count(\"Red\") == 1 and sacar_5_bolas().count(\"Green\") == 1:\n",
    "        cuenta_1blanca_1roja_1verde+=1\n",
    "\n",
    "\n",
    "print(f'La probabilidad de sacar 3 bolas blancas y 2 rojas es de : {cuenta_3blancas_2rojas/1000*100}%')\n",
    "print(f'La probabilidad de sacar 5 bolas del mismo color es de : {coontador_todas_mismo_color/1000*100}%')\n",
    "print(f'La probabilidad de sacar 1 bola de cada color es de : {cuenta_1blanca_1roja_1verde/1000*100}%')  \n",
    "\n",
    "#hola\n",
    "\n",
    "\n"
   ]
  }
 ],
 "metadata": {
  "kernelspec": {
   "display_name": "Python 3",
   "language": "python",
   "name": "python3"
  },
  "language_info": {
   "codemirror_mode": {
    "name": "ipython",
    "version": 3
   },
   "file_extension": ".py",
   "mimetype": "text/x-python",
   "name": "python",
   "nbconvert_exporter": "python",
   "pygments_lexer": "ipython3",
   "version": "3.11.4"
  }
 },
 "nbformat": 4,
 "nbformat_minor": 5
}
